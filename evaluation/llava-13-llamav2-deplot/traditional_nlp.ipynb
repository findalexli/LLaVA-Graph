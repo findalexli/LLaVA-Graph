{
 "cells": [
  {
   "cell_type": "code",
   "execution_count": 1,
   "metadata": {},
   "outputs": [
    {
     "name": "stderr",
     "output_type": "stream",
     "text": [
      "/home/ubuntu/mambaforge-pypy3/envs/llavav2/lib/python3.10/site-packages/tqdm/auto.py:21: TqdmWarning: IProgress not found. Please update jupyter and ipywidgets. See https://ipywidgets.readthedocs.io/en/stable/user_install.html\n",
      "  from .autonotebook import tqdm as notebook_tqdm\n",
      "Found cached dataset parquet (/home/ubuntu/.cache/huggingface/datasets/alexshengzhili___parquet/alexshengzhili--SciCapQA-test-with-deplot-1ac41e44312d836e/0.0.0/14a00e99c0d15a23649d0db8944380ac81082d4b021f398733dd84f3a6c569a7)\n",
      "Loading cached processed dataset at /home/ubuntu/.cache/huggingface/datasets/alexshengzhili___parquet/alexshengzhili--SciCapQA-test-with-deplot-1ac41e44312d836e/0.0.0/14a00e99c0d15a23649d0db8944380ac81082d4b021f398733dd84f3a6c569a7/cache-78d2f229bcfd37cf.arrow\n"
     ]
    }
   ],
   "source": [
    "from datasets import load_from_disk, load_dataset\n",
    "from datasets import load_dataset, load_from_disk\n",
    "import sys\n",
    "import json\n",
    "from pycocoevalcap.bleu.bleu import Bleu\n",
    "from pycocoevalcap.meteor.meteor import Meteor\n",
    "\n",
    "from pycocoevalcap.rouge.rouge import Rouge\n",
    "from pycocoevalcap.spice.spice import Spice\n",
    "from pycocoevalcap.cider.cider import Cider\n",
    "deplot_test = load_dataset('alexshengzhili/SciCapQA-test-with-deplot', split='1_percent_as_validation')\n",
    "data = deplot_test.filter(lambda example: len(example['q_a_pairs']) > 0)\n",
    "\n"
   ]
  },
  {
   "cell_type": "code",
   "execution_count": 2,
   "metadata": {},
   "outputs": [],
   "source": [
    "import json\n",
    "\n",
    "# load this file /home/ubuntu/LLaVA-Graph/evaluation/llava-7b-v0/llava_answers_3k.jsonl\n",
    "# into a list of dictionaries\n",
    "json_file = '/home/ubuntu/LLaVA/data/3k_response.jsonl'\n",
    "with open(json_file, 'r') as f:\n",
    "    llava_answers_3k = [json.loads(line) for line in f]"
   ]
  },
  {
   "cell_type": "code",
   "execution_count": 3,
   "metadata": {},
   "outputs": [],
   "source": [
    "llava_list  = [item['text'] for item in llava_answers_3k]"
   ]
  },
  {
   "cell_type": "code",
   "execution_count": 7,
   "metadata": {},
   "outputs": [],
   "source": [
    "for i in range(3000):\n",
    "    target_question_length = len(data[i]['q_a_pairs'][0][0])\n",
    "    assert llava_answers_3k[i]['prompt'][-target_question_length:] == data[i]['q_a_pairs'][0][0]"
   ]
  },
  {
   "cell_type": "code",
   "execution_count": 8,
   "metadata": {},
   "outputs": [
    {
     "name": "stderr",
     "output_type": "stream",
     "text": [
      "Loading cached processed dataset at /home/ubuntu/.cache/huggingface/datasets/alexshengzhili___parquet/alexshengzhili--SciCapQA-test-with-deplot-1ac41e44312d836e/0.0.0/14a00e99c0d15a23649d0db8944380ac81082d4b021f398733dd84f3a6c569a7/cache-043f1c3de8854caa.arrow\n"
     ]
    }
   ],
   "source": [
    "llava = data.add_column('llava_response', llava_list)"
   ]
  },
  {
   "cell_type": "code",
   "execution_count": 10,
   "metadata": {},
   "outputs": [
    {
     "name": "stdout",
     "output_type": "stream",
     "text": [
      "{'testlen': 243764, 'reflen': 189848, 'guess': [243764, 240762, 237760, 234758], 'correct': [75416, 30576, 16875, 10880]}\n",
      "ratio: 1.2839956175466622\n",
      "----- Evaluation Scores -----\n",
      "Bleu: 0.10662278800245038\n",
      "Rouge: 0.2737924751172802\n",
      "CIDEr: 0.15378719095629606\n"
     ]
    },
    {
     "data": {
      "text/plain": [
       "{'Bleu': 0.10662278800245038,\n",
       " 'Rouge': 0.2737924751172802,\n",
       " 'CIDEr': 0.15378719095629606}"
      ]
     },
     "execution_count": 10,
     "metadata": {},
     "output_type": "execute_result"
    }
   ],
   "source": [
    "def evaluate_captions(gt_captions, pred_captions, print_scores=True):\n",
    "    evaluators = [Bleu(4), Rouge(), Cider()]\n",
    "    \n",
    "    results = {}\n",
    "    for evaluator in evaluators:\n",
    "        score, _ = evaluator.compute_score(gt_captions, pred_captions)\n",
    "        if isinstance(evaluator, Bleu):\n",
    "            score = score[-1]  # Use the BLEU-4 score\n",
    "        results[evaluator.method()] = score\n",
    "    \n",
    "    if print_scores:\n",
    "        print(\"----- Evaluation Scores -----\")\n",
    "        for metric, score in results.items():\n",
    "            print(f\"{metric}: {score}\")\n",
    "    \n",
    "    return results\n",
    "\n",
    "def captions_list_to_dict(captions_list):\n",
    "    captions_dict = {}\n",
    "    for idx, caption in enumerate(captions_list):\n",
    "        captions_dict[idx] = [caption]\n",
    "    return captions_dict\n",
    "\n",
    "gt_mplug = [example[0][1] for example in llava['q_a_pairs']]\n",
    "pred_mplug = [example['llava_response'] for example in llava]\n",
    "evaluate_captions(captions_list_to_dict(gt_mplug),\n",
    "                    captions_list_to_dict(pred_mplug))"
   ]
  },
  {
   "cell_type": "code",
   "execution_count": 14,
   "metadata": {},
   "outputs": [
    {
     "name": "stderr",
     "output_type": "stream",
     "text": [
      "Pushing dataset shards to the dataset hub:   0%|          | 0/1 [00:00<?, ?it/s]"
     ]
    },
    {
     "name": "stderr",
     "output_type": "stream",
     "text": [
      "Creating parquet from Arrow format: 100%|██████████| 4/4 [00:00<00:00, 78.64ba/s]\n",
      "Pushing dataset shards to the dataset hub: 100%|██████████| 1/1 [00:00<00:00,  1.55it/s]\n"
     ]
    }
   ],
   "source": [
    "from huggingface_hub import HfApi\n",
    "api = HfApi()\n",
    "#api.create_repo('llava-eval-with-deplot', repo_type='dataset')\n",
    "llava.push_to_hub('alexshengzhili/llava-eval-with-deplot')\n"
   ]
  },
  {
   "cell_type": "code",
   "execution_count": null,
   "metadata": {},
   "outputs": [],
   "source": []
  }
 ],
 "metadata": {
  "kernelspec": {
   "display_name": "llava",
   "language": "python",
   "name": "python3"
  },
  "language_info": {
   "codemirror_mode": {
    "name": "ipython",
    "version": 3
   },
   "file_extension": ".py",
   "mimetype": "text/x-python",
   "name": "python",
   "nbconvert_exporter": "python",
   "pygments_lexer": "ipython3",
   "version": "3.10.12"
  },
  "orig_nbformat": 4
 },
 "nbformat": 4,
 "nbformat_minor": 2
}
