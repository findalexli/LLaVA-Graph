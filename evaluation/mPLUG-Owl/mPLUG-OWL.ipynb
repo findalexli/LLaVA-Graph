{
 "cells": [
  {
   "cell_type": "markdown",
   "metadata": {},
   "source": []
  },
  {
   "cell_type": "code",
   "execution_count": 1,
   "metadata": {},
   "outputs": [
    {
     "name": "stderr",
     "output_type": "stream",
     "text": [
      "/opt/conda/envs/llava/lib/python3.10/site-packages/tqdm/auto.py:21: TqdmWarning: IProgress not found. Please update jupyter and ipywidgets. See https://ipywidgets.readthedocs.io/en/stable/user_install.html\n",
      "  from .autonotebook import tqdm as notebook_tqdm\n"
     ]
    },
    {
     "ename": "ModuleNotFoundError",
     "evalue": "No module named 'mplug_owl'",
     "output_type": "error",
     "traceback": [
      "\u001b[0;31m---------------------------------------------------------------------------\u001b[0m",
      "\u001b[0;31mModuleNotFoundError\u001b[0m                       Traceback (most recent call last)",
      "Cell \u001b[0;32mIn[1], line 2\u001b[0m\n\u001b[1;32m      1\u001b[0m \u001b[39mfrom\u001b[39;00m \u001b[39mtransformers\u001b[39;00m \u001b[39mimport\u001b[39;00m AutoTokenizer\n\u001b[0;32m----> 2\u001b[0m \u001b[39mfrom\u001b[39;00m \u001b[39mmplug_owl\u001b[39;00m\u001b[39m.\u001b[39;00m\u001b[39mmodeling_mplug_owl\u001b[39;00m \u001b[39mimport\u001b[39;00m MplugOwlForConditionalGeneration\n\u001b[1;32m      3\u001b[0m \u001b[39mfrom\u001b[39;00m \u001b[39mmplug_owl\u001b[39;00m\u001b[39m.\u001b[39;00m\u001b[39mprocessing_mplug_owl\u001b[39;00m \u001b[39mimport\u001b[39;00m MplugOwlImageProcessor, MplugOwlProcessor\n",
      "\u001b[0;31mModuleNotFoundError\u001b[0m: No module named 'mplug_owl'"
     ]
    }
   ],
   "source": [
    "from transformers import AutoTokenizer\n",
    "from mplug_owl.modeling_mplug_owl import MplugOwlForConditionalGeneration\n",
    "from mplug_owl.processing_mplug_owl import MplugOwlImageProcessor, MplugOwlProcessor"
   ]
  },
  {
   "cell_type": "code",
   "execution_count": null,
   "metadata": {},
   "outputs": [],
   "source": []
  }
 ],
 "metadata": {
  "kernelspec": {
   "display_name": "llava",
   "language": "python",
   "name": "python3"
  },
  "language_info": {
   "codemirror_mode": {
    "name": "ipython",
    "version": 3
   },
   "file_extension": ".py",
   "mimetype": "text/x-python",
   "name": "python",
   "nbconvert_exporter": "python",
   "pygments_lexer": "ipython3",
   "version": "3.10.12"
  },
  "orig_nbformat": 4
 },
 "nbformat": 4,
 "nbformat_minor": 2
}
