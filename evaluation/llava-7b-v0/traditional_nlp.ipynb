{
 "cells": [
  {
   "cell_type": "code",
   "execution_count": 1,
   "metadata": {},
   "outputs": [
    {
     "name": "stderr",
     "output_type": "stream",
     "text": [
      "/opt/conda/envs/llava/lib/python3.10/site-packages/tqdm/auto.py:21: TqdmWarning: IProgress not found. Please update jupyter and ipywidgets. See https://ipywidgets.readthedocs.io/en/stable/user_install.html\n",
      "  from .autonotebook import tqdm as notebook_tqdm\n",
      "Found cached dataset parquet (/home/ubuntu/.cache/huggingface/datasets/alexshengzhili___parquet/alexshengzhili--mPLUG-owl-803e207c32dd7d84/0.0.0/14a00e99c0d15a23649d0db8944380ac81082d4b021f398733dd84f3a6c569a7)\n"
     ]
    }
   ],
   "source": [
    "from datasets import load_from_disk, load_dataset\n",
    "from datasets import load_dataset, load_from_disk\n",
    "import sys\n",
    "import json\n",
    "from pycocoevalcap.bleu.bleu import Bleu\n",
    "# from pycocoevalcap.meteor.meteor import Meteor\n",
    "from pycocoevalcap.rouge.rouge import Rouge\n",
    "from pycocoevalcap.cider.cider import Cider\n",
    "mplug = load_dataset('alexshengzhili/mPLUG-owl', split = '1_percent_as_validation')\n"
   ]
  },
  {
   "cell_type": "code",
   "execution_count": 2,
   "metadata": {},
   "outputs": [],
   "source": [
    "import json\n",
    "\n",
    "# load this file /home/ubuntu/LLaVA-Graph/evaluation/llava-7b-v0/llava_answers_3k.jsonl\n",
    "# into a list of dictionaries\n",
    "with open('llava_answers_3k.jsonl', 'r') as f:\n",
    "    llava_answers_3k = [json.loads(line) for line in f]"
   ]
  },
  {
   "cell_type": "code",
   "execution_count": 3,
   "metadata": {},
   "outputs": [],
   "source": [
    "llava_list  = [item['text'] for item in llava_answers_3k]"
   ]
  },
  {
   "cell_type": "code",
   "execution_count": 5,
   "metadata": {},
   "outputs": [],
   "source": [
    "for i in range(3000):\n",
    "    assert llava_answers_3k[i]['prompt'] == mplug[i]['q_a_pairs'][0][0]"
   ]
  },
  {
   "cell_type": "code",
   "execution_count": 6,
   "metadata": {},
   "outputs": [
    {
     "data": {
      "text/plain": [
       "Dataset({\n",
       "    features: ['image_file', 'id', 'caption', 'conversations', 'first_mention', 'response', 'title', 'abstract', 'q_a_pairs', 'response_mPLUG-owl', 'llava_response'],\n",
       "    num_rows: 3002\n",
       "})"
      ]
     },
     "execution_count": 6,
     "metadata": {},
     "output_type": "execute_result"
    }
   ],
   "source": [
    "mplug.add_column('llava_response', llava_list)"
   ]
  },
  {
   "cell_type": "code",
   "execution_count": 7,
   "metadata": {},
   "outputs": [],
   "source": [
    "llava = mplug.remove_columns(['response_mPLUG-owl'])"
   ]
  },
  {
   "cell_type": "code",
   "execution_count": 8,
   "metadata": {},
   "outputs": [],
   "source": [
    "llava = llava.add_column('llava_response', llava_list)"
   ]
  },
  {
   "cell_type": "code",
   "execution_count": 10,
   "metadata": {},
   "outputs": [
    {
     "data": {
      "text/plain": [
       "Dataset({\n",
       "    features: ['image_file', 'id', 'caption', 'conversations', 'first_mention', 'response', 'title', 'abstract', 'q_a_pairs', 'llava_response'],\n",
       "    num_rows: 3002\n",
       "})"
      ]
     },
     "execution_count": 10,
     "metadata": {},
     "output_type": "execute_result"
    }
   ],
   "source": [
    "llava"
   ]
  },
  {
   "cell_type": "code",
   "execution_count": 11,
   "metadata": {},
   "outputs": [
    {
     "name": "stdout",
     "output_type": "stream",
     "text": [
      "{'testlen': 209903, 'reflen': 189848, 'guess': [209903, 206901, 204007, 201272], 'correct': [53732, 17554, 8886, 5651]}\n",
      "ratio: 1.1056371412919752\n",
      "----- Evaluation Scores -----\n",
      "Bleu: 0.07178897661920974\n",
      "Rouge: 0.18558197583627023\n",
      "CIDEr: 0.047755558241033114\n"
     ]
    },
    {
     "data": {
      "text/plain": [
       "{'Bleu': 0.07178897661920974,\n",
       " 'Rouge': 0.18558197583627023,\n",
       " 'CIDEr': 0.047755558241033114}"
      ]
     },
     "execution_count": 11,
     "metadata": {},
     "output_type": "execute_result"
    }
   ],
   "source": [
    "def evaluate_captions(gt_captions, pred_captions, print_scores=True):\n",
    "    evaluators = [Bleu(4), Rouge(), Cider()]\n",
    "    \n",
    "    results = {}\n",
    "    for evaluator in evaluators:\n",
    "        score, _ = evaluator.compute_score(gt_captions, pred_captions)\n",
    "        if isinstance(evaluator, Bleu):\n",
    "            score = score[-1]  # Use the BLEU-4 score\n",
    "        results[evaluator.method()] = score\n",
    "    \n",
    "    if print_scores:\n",
    "        print(\"----- Evaluation Scores -----\")\n",
    "        for metric, score in results.items():\n",
    "            print(f\"{metric}: {score}\")\n",
    "    \n",
    "    return results\n",
    "\n",
    "def captions_list_to_dict(captions_list):\n",
    "    captions_dict = {}\n",
    "    for idx, caption in enumerate(captions_list):\n",
    "        captions_dict[idx] = [caption]\n",
    "    return captions_dict\n",
    "\n",
    "gt_mplug = [example[0][1] for example in llava['q_a_pairs']]\n",
    "pred_mplug = [example['llava_response'] for example in llava]\n",
    "evaluate_captions(captions_list_to_dict(gt_mplug),\n",
    "                    captions_list_to_dict(pred_mplug))"
   ]
  },
  {
   "cell_type": "code",
   "execution_count": 16,
   "metadata": {},
   "outputs": [
    {
     "name": "stderr",
     "output_type": "stream",
     "text": [
      "Creating parquet from Arrow format: 100%|██████████| 4/4 [00:00<00:00, 63.42ba/s]\n",
      "Upload 1 LFS files: 100%|██████████| 1/1 [00:01<00:00,  1.27s/it]\n",
      "Pushing dataset shards to the dataset hub: 100%|██████████| 1/1 [00:01<00:00,  1.68s/it]\n",
      "Downloading metadata: 100%|██████████| 21.0/21.0 [00:00<00:00, 221kB/s]\n"
     ]
    }
   ],
   "source": [
    "llava.push_to_hub('alexshengzhili/llava-eval', type = 'dataset')\n"
   ]
  }
 ],
 "metadata": {
  "kernelspec": {
   "display_name": "llava",
   "language": "python",
   "name": "python3"
  },
  "language_info": {
   "codemirror_mode": {
    "name": "ipython",
    "version": 3
   },
   "file_extension": ".py",
   "mimetype": "text/x-python",
   "name": "python",
   "nbconvert_exporter": "python",
   "pygments_lexer": "ipython3",
   "version": "3.10.12"
  },
  "orig_nbformat": 4
 },
 "nbformat": 4,
 "nbformat_minor": 2
}
