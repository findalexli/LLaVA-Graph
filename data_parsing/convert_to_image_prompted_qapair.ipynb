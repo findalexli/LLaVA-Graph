{
 "cells": [
  {
   "cell_type": "code",
   "execution_count": null,
   "id": "fd9b8be1-481b-41d5-95eb-990dd51e6ebd",
   "metadata": {},
   "outputs": [],
   "source": [
    "from datasets import load_from_disk, load_dataset, concatenate_datasets\n",
    "\n",
    "dataset_name = 'alexshengzhili/SciCapInstructed-graph-only-stage1'\n",
    "split_lists = ['first_twenty', \n",
    "               'twenty_to_forty', \n",
    "               'forty2seventy',\n",
    "               'seventy2ninty', \n",
    "                'ninty2onehundred']\n",
    "\n",
    "dataset_1 = load_dataset(dataset_name, split=split_lists[0])\n",
    "dataset_2 = load_dataset(dataset_name, split=split_lists[1])\n",
    "dataset_3 = load_dataset(dataset_name, split=split_lists[2])\n",
    "dataset_4 = load_dataset(dataset_name, split=split_lists[3])\n",
    "dataset_5 = load_dataset(dataset_name, split=split_lists[4])"
   ]
  },
  {
   "cell_type": "code",
   "execution_count": 8,
   "id": "01a599e6",
   "metadata": {},
   "outputs": [
    {
     "data": {
      "text/plain": [
       "Dataset({\n",
       "    features: ['image_file', 'id', 'caption', 'conversations', 'first_mention', 'response', 'title', 'abstract'],\n",
       "    num_rows: 352018\n",
       "})"
      ]
     },
     "execution_count": 8,
     "metadata": {},
     "output_type": "execute_result"
    }
   ],
   "source": [
    "dataset = concatenate_datasets([dataset_1, dataset_2, dataset_3, dataset_4, dataset_5])"
   ]
  },
  {
   "cell_type": "code",
   "execution_count": 6,
   "id": "4decdaf2",
   "metadata": {},
   "outputs": [
    {
     "name": "stderr",
     "output_type": "stream",
     "text": [
      "Found cached dataset parquet (/home/ubuntu/.cache/huggingface/datasets/alexshengzhili___parquet/alexshengzhili--SciCapInstructed-graph-only-qa-c5897d2f1995d1be/0.0.0/14a00e99c0d15a23649d0db8944380ac81082d4b021f398733dd84f3a6c569a7)\n",
      "Loading cached processed dataset at /home/ubuntu/.cache/huggingface/datasets/alexshengzhili___parquet/alexshengzhili--SciCapInstructed-graph-only-qa-c5897d2f1995d1be/0.0.0/14a00e99c0d15a23649d0db8944380ac81082d4b021f398733dd84f3a6c569a7/cache-64c68aa07984d39f.arrow\n"
     ]
    }
   ],
   "source": [
    "vali_dataset = load_dataset('alexshengzhili/SciCapInstructed-graph-only-qa', split='1_percent_as_validation')\n",
    "data = vali_dataset.filter(lambda x: x['q_a_pairs'] is not None and len(x['q_a_pairs']) > 0)\n"
   ]
  },
  {
   "cell_type": "code",
   "execution_count": 13,
   "id": "3d5b38f2",
   "metadata": {},
   "outputs": [],
   "source": [
    "validation_set = set(data['image_file'])"
   ]
  },
  {
   "cell_type": "code",
   "execution_count": 15,
   "id": "1492b599",
   "metadata": {},
   "outputs": [
    {
     "name": "stderr",
     "output_type": "stream",
     "text": [
      "                                                                         \r"
     ]
    }
   ],
   "source": [
    "training_dataset_wihtout_validation = dataset.filter(lambda x: x['image_file'] not in validation_set)"
   ]
  },
  {
   "cell_type": "code",
   "execution_count": 17,
   "id": "ef25390e",
   "metadata": {},
   "outputs": [
    {
     "data": {
      "text/plain": [
       "3002"
      ]
     },
     "execution_count": 17,
     "metadata": {},
     "output_type": "execute_result"
    }
   ],
   "source": [
    "len(dataset) - len(training_dataset_wihtout_validation)"
   ]
  },
  {
   "cell_type": "code",
   "execution_count": 19,
   "id": "d5fefd9d-2bea-4909-962a-32cc380c451b",
   "metadata": {},
   "outputs": [],
   "source": [
    "import re\n",
    "import random\n",
    "\n",
    "# def extract_q_a(s):\n",
    "#     pairs = []\n",
    "#     segments = s.split('\\n\\n')\n",
    "\n",
    "#     for i in range(0, len(segments)-1, 2):\n",
    "#         if len(segments[i]) < 1:\n",
    "#             continue\n",
    "#         question = segments[i].replace('Question: ', '').strip()\n",
    "#         answer = segments[i+1].replace('Answer: ', '').strip()\n",
    "#         pairs.append((question, answer))\n",
    "\n",
    "#     return pairs\n",
    "def convert_to_qa_pairs_using_regex(dialog_string):\n",
    "    # Split the dialog string into segments whenever 'Question:' or 'Answer:' appears\n",
    "    segments = re.split('Question: |Answer: ', dialog_string)\n",
    "    \n",
    "    # Remove any empty strings from the list\n",
    "    segments = [segment for segment in segments if (len(segment) > 3 and segment != '\\n')]\n",
    "    \n",
    "    # Group the segments into pairs (question, answer)\n",
    "    qa_pairs = [(segments[i].strip('\\n').strip(), segments[i+1].strip('\\n').strip()) for i in range(0, len(segments)-1, 2)]\n",
    "    valid_pairs = []\n",
    "    for question, answer in qa_pairs:\n",
    "        keywords = ['graph', 'diagram', 'figure', 'chart', 'axis', 'plot', 'table', 'image', 'visual', 'illustrat']\n",
    "        if not any(keyword in question.lower() for keyword in keywords):\n",
    "            continue\n",
    "        valid_pairs.append((question, answer))\n",
    "    return valid_pairs\n",
    "\n",
    "    \n",
    "test = False\n",
    "\n",
    "if test:\n",
    "    empty_indexes = []\n",
    "    for _ in range(100):\n",
    "        random_intgeter = random.randint(0, 50000)\n",
    "        q_a_pairs = convert_to_qa_pairs_using_regex(training_dataset_wihtout_validation[random_intgeter]['response'])\n",
    "        if len(q_a_pairs) < 1:\n",
    "            empty_indexes.append(random_intgeter)\n"
   ]
  },
  {
   "cell_type": "code",
   "execution_count": 27,
   "id": "9f8411b2-ae93-4406-a3e0-b5fa7ecbc4f8",
   "metadata": {},
   "outputs": [
    {
     "name": "stderr",
     "output_type": "stream",
     "text": [
      "Loading cached processed dataset at /home/ubuntu/.cache/huggingface/datasets/alexshengzhili___parquet/alexshengzhili--SciCapInstructed-graph-only-stage1-cb3c63a49a8170bf/0.0.0/14a00e99c0d15a23649d0db8944380ac81082d4b021f398733dd84f3a6c569a7/cache-236532537149a7e0.arrow\n",
      "Loading cached processed dataset at /home/ubuntu/.cache/huggingface/datasets/alexshengzhili___parquet/alexshengzhili--SciCapInstructed-graph-only-stage1-cb3c63a49a8170bf/0.0.0/14a00e99c0d15a23649d0db8944380ac81082d4b021f398733dd84f3a6c569a7/cache-ecbdb8cfa65c3464_*_of_00004.arrow\n",
      "                                                                         \r"
     ]
    }
   ],
   "source": [
    "import random\n",
    "\n",
    "    \n",
    "def convert_to_conversations(example, insert_context= False):\n",
    "    q_a_pairs = convert_to_qa_pairs_using_regex(example['response'])\n",
    "    conversations = []\n",
    "    \n",
    "    random_prompt = ''\n",
    "    for i, qa in enumerate(q_a_pairs):\n",
    "        Question, Answer = qa\n",
    "        \n",
    "        # for the first round, use the random prompt\n",
    "        if i == 0:\n",
    "            if insert_context:\n",
    "                Question = example['title'] + ' ' + example['caption'] + ' ' + Question\n",
    "            if random.random() < 0.5:\n",
    "                random_prompt = f\"{Question}\\n<image>\"\n",
    "            else:\n",
    "                random_prompt = f\"<image>\\n{Question}\"\n",
    "            \n",
    "            conversations.append({\"from\": \"human\", \"value\": random_prompt})\n",
    "        else: \n",
    "            # for subsequent rounds, just use the question and answer\n",
    "            conversations.append({\"from\": \"human\", \"value\": Question})\n",
    "        conversations.append({\"from\": \"gpt\", \"value\": Answer})\n",
    "        \n",
    "    return conversations, q_a_pairs\n",
    "\n",
    "def convert_example(example):\n",
    "    conversations, q_a_pairs = convert_to_conversations(example)\n",
    "    example['conversations'] = conversations\n",
    "    example['q_a_pairs'] = q_a_pairs\n",
    "    return example\n",
    "\n",
    "\n",
    "def filter_for_non_helpful_instructions(example):\n",
    "    item = example['response']\n",
    "    if ('question' not in item.lower() or\n",
    "        'answer' not in item.lower()):\n",
    "        return False\n",
    "    return True\n",
    "\n",
    "isTrain = True\n",
    "isVal = False\n",
    "\n",
    "\n",
    "if isTrain: \n",
    "    \n",
    "    # test_train = train[:100]\n",
    "    filtered_train = training_dataset_wihtout_validation.filter(filter_for_non_helpful_instructions)\n",
    "    converted_conversations = filtered_train.map(convert_example, num_proc=4)\n",
    "    converted_conversations = converted_conversations.filter(lambda x: len(x['q_a_pairs']) > 0)\n",
    "if isVal:\n",
    "    filtered_validation = validation_one_percent.filter(filter_for_non_helpful_instructions)\n",
    "    converted_conversations_validation = validation_one_percent.map(convert_example)"
   ]
  },
  {
   "cell_type": "code",
   "execution_count": 28,
   "id": "a06c96a3",
   "metadata": {},
   "outputs": [
    {
     "name": "stdout",
     "output_type": "stream",
     "text": [
      "Number of examples in the training set BEFORE converstion: 349016\n",
      "Number of examples in the training set AFTER converstion: 295602\n"
     ]
    }
   ],
   "source": [
    "len(training_dataset_wihtout_validation) - len(converted_conversations)\n",
    "print(f'Number of examples in the training set BEFORE converstion: {len(training_dataset_wihtout_validation)}')\n",
    "print(f'Number of examples in the training set AFTER converstion: {len(converted_conversations)}')"
   ]
  },
  {
   "attachments": {},
   "cell_type": "markdown",
   "id": "9a4cf056",
   "metadata": {},
   "source": [
    "## Let us calculate the average number of turns, and the average token \n",
    "\n"
   ]
  },
  {
   "cell_type": "code",
   "execution_count": 30,
   "id": "cb5503f9",
   "metadata": {},
   "outputs": [],
   "source": [
    "# calcualte length\n",
    "def calculate_length(dataset):\n",
    "    lengths = []\n",
    "    for example in dataset:\n",
    "        lengths.append(len(example['q_a_pairs']))\n",
    "    return lengths\n",
    "\n",
    "lengths = calculate_length(converted_conversations)"
   ]
  },
  {
   "cell_type": "code",
   "execution_count": 34,
   "id": "e8594750",
   "metadata": {},
   "outputs": [
    {
     "data": {
      "text/plain": [
       "(2.230394246317684, 1.1759158960203515, 8, 1)"
      ]
     },
     "execution_count": 34,
     "metadata": {},
     "output_type": "execute_result"
    }
   ],
   "source": [
    "np.mean(lengths), np.std(lengths), np.max(lengths), np.min(lengths)"
   ]
  },
  {
   "cell_type": "code",
   "execution_count": 35,
   "id": "39d4b802",
   "metadata": {},
   "outputs": [
    {
     "data": {
      "text/plain": [
       "Text(0.5, 1.0, 'Distribution of number of Quesiton-Answer pairs')"
      ]
     },
     "execution_count": 35,
     "metadata": {},
     "output_type": "execute_result"
    },
    {
     "data": {
      "image/png": "[encoded data removed]",
      "text/plain": [
       "<Figure size 640x480 with 1 Axes>"
      ]
     },
     "metadata": {},
     "output_type": "display_data"
    }
   ],
   "source": [
    "import matplotlib.pyplot as plt\n",
    "import numpy as np\n",
    "\n",
    "plt.hist(lengths, bins=100)\n",
    "plt.xlabel('Number of QA pairs')\n",
    "plt.ylabel('Number of examples')\n",
    "plt.title('Distribution of number of Quesiton-Answer pairs')\n"
   ]
  },
  {
   "cell_type": "code",
   "execution_count": 36,
   "id": "9a069dcb",
   "metadata": {},
   "outputs": [
    {
     "data": {
      "text/plain": [
       "{'image_file': '1610.06815v1-Figure4-1.png',\n",
       " 'id': '1610.06815v1-Figure4-1',\n",
       " 'caption': 'Fig. 4. Learning error for different learning rates.',\n",
       " 'conversations': [{'from': 'human',\n",
       "   'value': 'How does the graph in Figure 4 illustrate this relationship?\\n<image>'},\n",
       "  {'from': 'gpt',\n",
       "   'value': 'The graph in Figure 4 shows reconstruction errors for a Gaussian-Bernoulli RBM with a structure of 312-600. The momentum value is set to 0.9 and the learning rate values are 0.005, 0.01, and 0.018. It can be observed that the error decreased faster if a larger learning rate was used. However, when the learning rate was increased to 0.02, the training failed to converge. This suggests that a larger learning rate may not always be better for RBM learning.'}],\n",
       " 'first_mention': '1) Effects of Momentum and Learning Rate in Pretraining: A good combination of learning rate and momentum is crucial for the convergence of RBM learning. Usually, a small value for the learning rate and a large value for the momentum are helpful for the convergence. Fig. 4 shows reconstruction errors for a Gaussian–Bernoulli RBM with a structure of 312-600. We set the momentum value as 0.9 and the learning rate values as 0.005, 0.01, and 0.018, respectively. It can be observed that the error decreased faster if a larger learning rate was used. However, when we increased the learning rate to 0.02, the training failed to converge. We also tried different values for momentum and found that the training failed to converge when the momentum value was less than 0.6 with a learning rate of 0.018. To guarantee a safe convergence of the RBM training, we set the momentum as 0.9 and the learning rate as 0.01 in subsequent experiments.',\n",
       " 'response': 'Question: What is the relationship between learning rate and momentum in RBM learning?\\nAnswer: The learning rate and momentum are two important hyperparameters in RBM learning. A good combination of these two parameters is crucial for the convergence of RBM learning. In general, a small value for the learning rate and a large value for the momentum are helpful for the convergence. However, the specific values of these parameters will depend on the specific RBM model and dataset.\\n\\nQuestion: How does the graph in Figure 4 illustrate this relationship?\\nAnswer: The graph in Figure 4 shows reconstruction errors for a Gaussian-Bernoulli RBM with a structure of 312-600. The momentum value is set to 0.9 and the learning rate values are 0.005, 0.01, and 0.018. It can be observed that the error decreased faster if a larger learning rate was used. However, when the learning rate was increased to 0.02, the training failed to converge. This suggests that a larger learning rate may not always be better for RBM learning.\\n\\nQuestion: What other factors can affect the convergence of RBM learning?\\nAnswer: In addition to the learning rate and momentum, other factors that can affect the convergence of RBM learning include the number of hidden units, the number of training epochs, and the initialization of the RBM parameters. It is important to experiment with different values of these parameters to find the best combination for a given RBM model and dataset.\\n\\nQuestion: What values of the learning rate and momentum did you use in your experiments?\\nAnswer: In our experiments, we set the momentum as 0.9 and the learning rate as 0.01. These values worked well for the RBM models and datasets that we used. However, it is important to note that the optimal values of these parameters may vary depending on the specific RBM model and dataset.',\n",
       " 'title': 'Deep Models for Engagement Assessment With Scarce Label Information',\n",
       " 'abstract': 'Task engagement is defined as loadings on energetic arousal (affect), task\\nmotivation, and concentration (cognition). It is usually challenging and\\nexpensive to label cognitive state data, and traditional computational models\\ntrained with limited label information for engagement assessment do not perform\\nwell because of overfitting. In this paper, we proposed two deep models (i.e.,\\na deep classifier and a deep autoencoder) for engagement assessment with scarce\\nlabel information. We recruited 15 pilots to conduct a 4-h flight simulation\\nfrom Seattle to Chicago and recorded their electroencephalograph (EEG) signals\\nduring the simulation. Experts carefully examined the EEG signals and labeled\\n20 min of the EEG data for each pilot. The EEG signals were preprocessed and\\npower spectral features were extracted. The deep models were pretrained by the\\nunlabeled data and were fine-tuned by a different proportion of the labeled\\ndata (top 1%, 3%, 5%, 10%, 15%, and 20%) to learn new representations for\\nengagement assessment. The models were then tested on the remaining labeled\\ndata. We compared performances of the new data representations with the\\noriginal EEG features for engagement assessment. Experimental results show that\\nthe representations learned by the deep models yielded better accuracies for\\nthe six scenarios (77.09%, 80.45%, 83.32%, 85.74%, 85.78%, and 86.52%), based\\non different proportions of the labeled data for training, as compared with the\\ncorresponding accuracies (62.73%, 67.19%, 73.38%, 79.18%, 81.47%, and 84.92%)\\nachieved by the original EEG features. Deep models are effective for engagement\\nassessment especially when less label information was used for training.',\n",
       " 'q_a_pairs': [['How does the graph in Figure 4 illustrate this relationship?',\n",
       "   'The graph in Figure 4 shows reconstruction errors for a Gaussian-Bernoulli RBM with a structure of 312-600. The momentum value is set to 0.9 and the learning rate values are 0.005, 0.01, and 0.018. It can be observed that the error decreased faster if a larger learning rate was used. However, when the learning rate was increased to 0.02, the training failed to converge. This suggests that a larger learning rate may not always be better for RBM learning.']]}"
      ]
     },
     "execution_count": 36,
     "metadata": {},
     "output_type": "execute_result"
    }
   ],
   "source": [
    "converted_conversations[0]"
   ]
  },
  {
   "cell_type": "code",
   "execution_count": 38,
   "id": "54365747",
   "metadata": {},
   "outputs": [],
   "source": [
    "from utilities import num_tokens_from_messages\n",
    "\n",
    "\n",
    "total_qa_token = num_tokens_from_messages(converted_conversations['conversations'])\n",
    "total_qa_token"
   ]
  },
  {
   "cell_type": "code",
   "execution_count": 41,
   "id": "25055771",
   "metadata": {},
   "outputs": [
    {
     "name": "stdout",
     "output_type": "stream",
     "text": [
      "Total number of tokens in the training set: 72269922\n",
      "Average number of tokens per example in the training set: 244.48387358678224\n"
     ]
    }
   ],
   "source": [
    "total_qa_token, avg_qa_token = total_qa_token, total_qa_token / len(converted_conversations)\n",
    "\n",
    "print(f'Total number of tokens in the training set: {total_qa_token}')\n",
    "print(f'Average number of tokens per example in the training set: {avg_qa_token}')\n"
   ]
  },
  {
   "cell_type": "code",
   "execution_count": null,
   "id": "b94f01d6",
   "metadata": {},
   "outputs": [],
   "source": [
    "total_number_of_tokens = 0"
   ]
  },
  {
   "cell_type": "code",
   "execution_count": 42,
   "id": "88e64cae",
   "metadata": {},
   "outputs": [],
   "source": [
    "token_length_per_example = [num_tokens_from_messages(example['q_a_pairs']) for example in converted_conversations]"
   ]
  },
  {
   "cell_type": "code",
   "execution_count": 45,
   "id": "1d5bab29",
   "metadata": {},
   "outputs": [
    {
     "data": {
      "text/plain": [
       "59097618"
      ]
     },
     "execution_count": 45,
     "metadata": {},
     "output_type": "execute_result"
    }
   ],
   "source": [
    "sum(token_length_per_example)"
   ]
  },
  {
   "cell_type": "code",
   "execution_count": 44,
   "id": "d4ac8bda",
   "metadata": {},
   "outputs": [
    {
     "data": {
      "text/plain": [
       "(199.92293015608826, 97.16691157800025, 1004, 27)"
      ]
     },
     "execution_count": 44,
     "metadata": {},
     "output_type": "execute_result"
    }
   ],
   "source": [
    "np.mean(token_length_per_example), np.std(token_length_per_example), np.max(token_length_per_example), np.min(token_length_per_example)"
   ]
  },
  {
   "attachments": {},
   "cell_type": "markdown",
   "id": "72f2b773",
   "metadata": {},
   "source": [
    "# also per question and answer pair, let us calculate the length\n",
    "[num_tokens_from_messages(example['q_a_pairs']) /  for example in converted_conversations]\n"
   ]
  },
  {
   "cell_type": "code",
   "execution_count": 46,
   "id": "c18f8084",
   "metadata": {},
   "outputs": [],
   "source": [
    "average_token_per_turn = [num_tokens_from_messages(example['q_a_pairs']) / len(example['q_a_pairs']) for example in converted_conversations]\n"
   ]
  },
  {
   "cell_type": "code",
   "execution_count": 47,
   "id": "7b9568d1",
   "metadata": {},
   "outputs": [
    {
     "data": {
      "text/plain": [
       "(95.51090327454448, 32.71353797295097, 681.0, 27.0)"
      ]
     },
     "execution_count": 47,
     "metadata": {},
     "output_type": "execute_result"
    }
   ],
   "source": [
    "np.mean(average_token_per_turn), np.std(average_token_per_turn), np.max(average_token_per_turn), np.min(average_token_per_turn)"
   ]
  },
  {
   "attachments": {},
   "cell_type": "markdown",
   "id": "3f2a0508",
   "metadata": {},
   "source": [
    "Upload the dta to huggingface "
   ]
  },
  {
   "cell_type": "code",
   "execution_count": 51,
   "id": "5b7a328d",
   "metadata": {},
   "outputs": [
    {
     "name": "stderr",
     "output_type": "stream",
     "text": [
      "Creating parquet from Arrow format: 100%|██████████| 74/74 [00:06<00:00, 11.64ba/s]\n",
      "Upload 1 LFS files: 100%|██████████| 1/1 [00:06<00:00,  6.98s/it]\n",
      "Creating parquet from Arrow format: 100%|██████████| 74/74 [00:06<00:00, 11.76ba/s]s/it]\n",
      "Upload 1 LFS files: 100%|██████████| 1/1 [00:08<00:00,  8.26s/it]\n",
      "Creating parquet from Arrow format: 100%|██████████| 74/74 [00:06<00:00, 11.67ba/s]s/it]\n",
      "Upload 1 LFS files: 100%|██████████| 1/1 [00:06<00:00,  6.62s/it]\n",
      "Creating parquet from Arrow format: 100%|██████████| 74/74 [00:06<00:00, 11.76ba/s]s/it]\n",
      "Upload 1 LFS files: 100%|██████████| 1/1 [00:06<00:00,  6.51s/it]\n",
      "Pushing dataset shards to the dataset hub: 100%|██████████| 4/4 [00:56<00:00, 14.08s/it]\n",
      "Downloading metadata: 100%|██████████| 21.0/21.0 [00:00<00:00, 198kB/s]\n"
     ]
    }
   ],
   "source": [
    "destination = 'alexshengzhili/SciCap-instruct-multiturn-filtered'\n",
    "\n",
    "\n",
    "converted_conversations.push_to_hub(destination, use_authenticated_user=True)\n"
   ]
  },
  {
   "attachments": {},
   "cell_type": "markdown",
   "id": "2709f6af",
   "metadata": {},
   "source": [
    "# The rest if previous legacy code"
   ]
  },
  {
   "cell_type": "code",
   "execution_count": 66,
   "id": "9bf52a63-4311-486e-a5bd-6eb11974a952",
   "metadata": {},
   "outputs": [
    {
     "data": {
      "text/plain": [
       "(2.0, 2.241505662891406)"
      ]
     },
     "execution_count": 66,
     "metadata": {},
     "output_type": "execute_result"
    }
   ],
   "source": [
    "import numpy as np\n",
    "np.median(length), np.mean(length)"
   ]
  },
  {
   "cell_type": "code",
   "execution_count": 86,
   "id": "afc54dcd-c9b8-4525-b329-bda33a328331",
   "metadata": {},
   "outputs": [
    {
     "data": {
      "text/plain": [
       "8"
      ]
     },
     "execution_count": 86,
     "metadata": {},
     "output_type": "execute_result"
    }
   ],
   "source": [
    "len(converted_conversations[180]['conversations'])"
   ]
  },
  {
   "attachments": {},
   "cell_type": "markdown",
   "id": "c24959b0-0d9a-4a3a-9554-797ce6f4d7c6",
   "metadata": {},
   "source": [
    "# Eval construction only/"
   ]
  },
  {
   "cell_type": "code",
   "execution_count": 133,
   "id": "38e58e4e-b7e7-4aed-b717-94a38ca79207",
   "metadata": {},
   "outputs": [
    {
     "name": "stderr",
     "output_type": "stream",
     "text": [
      "Loading cached processed dataset at /home/jupyter/generative-ai/validation_with_response_fix_onepercenttest/cache-c35e1a157f242711.arrow\n",
      "Loading cached processed dataset at /home/jupyter/generative-ai/validation_with_response_fix_onepercenttest/cache-2bf4b118c5d958a0.arrow\n"
     ]
    }
   ],
   "source": [
    "def convert_to_only_question(example):\n",
    "    Question, _ = extract_q_a(example['response'])\n",
    "    example[\"text\"]= Question\n",
    "    example[\"category\"] = \"conv\"\n",
    "    return example\n",
    "\n",
    "filtered_validation = validation_one_percent.filter(filter_for_non_helpful_instructions)\n",
    "validation_converted = filtered_validation.map(convert_to_only_question)"
   ]
  },
  {
   "cell_type": "code",
   "execution_count": 137,
   "id": "e7fdece9-61f3-426b-a92f-ffda9de19917",
   "metadata": {},
   "outputs": [
    {
     "name": "stderr",
     "output_type": "stream",
     "text": [
      "100%|██████████| 91/91 [00:00<00:00, 9365.50it/s]\n"
     ]
    }
   ],
   "source": [
    "validation_converted_for_eval = []\n",
    "\n",
    "# Iterate over the dataset\n",
    "for record in tqdm(validation_converted):\n",
    "    # Apply some processing function to your data, if needed\n",
    "    # processed_data = process_numpy(record)\n",
    "\n",
    "    # If no processing is needed, directly append the record\n",
    "    processed_data = dict(image=record['image_file'], text=record['text'], category=record['category'])\n",
    "\n",
    "    # Append the data to the list\n",
    "    validation_converted_for_eval.append(processed_data)"
   ]
  },
  {
   "cell_type": "code",
   "execution_count": 138,
   "id": "6d6e9a5e-9d05-4f16-b2c2-df7fd2c914fa",
   "metadata": {},
   "outputs": [],
   "source": [
    "# Let us also construct the 'detail' questions based on 1% of validation set\n",
    "\n",
    "validation = load_from_disk('validation_with_response_fix')"
   ]
  },
  {
   "cell_type": "code",
   "execution_count": 139,
   "id": "cc39ce15-fead-47d0-9147-547ec31945ea",
   "metadata": {},
   "outputs": [],
   "source": [
    "validation_last_one_percent = validation[9100:]"
   ]
  },
  {
   "cell_type": "code",
   "execution_count": 140,
   "id": "7139af19-860c-400c-b11b-23f5302e0356",
   "metadata": {},
   "outputs": [],
   "source": [
    "detailed_prompt_list = [\n",
    "    \"Describe the following image in detail\",\n",
    "    \"Provide a detailed description of the given image\",\n",
    "    \"Give an elaborate explanation of the image you see\",\n",
    "    \"Share a comprehensive rundown of the presented image\",\n",
    "    \"Offer a thorough analysis of the image\",\n",
    "    \"Explain the various aspects of the image before you\",\n",
    "    \"Clarify the contents of the displayed image with great detail\",\n",
    "    \"Characterize the image using a well-detailed description\",\n",
    "    \"Break down the elements of the image in a detailed manner\",\n",
    "    \"Walk through the important details of the image\",\n",
    "    \"Portray the image with a rich, descriptive narrative\",\n",
    "    \"Narrate the contents of the image with precision\",\n",
    "    \"Analyze the image in a comprehensive and detailed manner\",\n",
    "    \"Illustrate the image through a descriptive explanation\",\n",
    "    \"Examine the image closely and share its details\",\n",
    "    \"Write an exhaustive depiction of the given image\"\n",
    "]\n",
    "\n",
    "import random \n",
    "list_of_deatil_prompt = []\n",
    "for i in range(len(validation_last_one_percent['image_file'])):\n",
    "    image = validation_last_one_percent['image_file'][i]\n",
    "    prompt = random.choice(detailed_prompt_list)\n",
    "    list_of_deatil_prompt.append(dict(image=image, text=prompt, category=\"detail\"))\n"
   ]
  },
  {
   "cell_type": "code",
   "execution_count": 141,
   "id": "f24ca1ce-5eb0-4f32-99b8-ed5447294a52",
   "metadata": {},
   "outputs": [],
   "source": [
    "combined_list = validation_converted_for_eval + list_of_deatil_prompt"
   ]
  },
  {
   "cell_type": "code",
   "execution_count": 142,
   "id": "f6d564e4-c129-4f30-b7fd-7bd710045d8e",
   "metadata": {},
   "outputs": [],
   "source": [
    "for i in range(len(combined_list)):\n",
    "    combined_list[i]['question_id'] = i"
   ]
  },
  {
   "attachments": {},
   "cell_type": "markdown",
   "id": "03281fac-5953-4c95-9dc5-6ed8421ea8af",
   "metadata": {},
   "source": [
    "# This saves the dataset to proper json format"
   ]
  },
  {
   "cell_type": "code",
   "execution_count": 99,
   "id": "8374ed14-6174-497d-a825-14f613d7a089",
   "metadata": {},
   "outputs": [
    {
     "name": "stderr",
     "output_type": "stream",
     "text": [
      "100%|██████████| 56520/56520 [00:08<00:00, 6612.09it/s]\n"
     ]
    }
   ],
   "source": [
    "from tqdm import tqdm\n",
    "import json\n",
    "def convert_dataset_into_json(converted_conversations, json_filename):\n",
    "    # Initialize a list to save processed data\n",
    "    all_data = []\n",
    "\n",
    "    # Iterate over the dataset\n",
    "    for record in tqdm(converted_conversations):\n",
    "        # Apply some processing function to your data, if needed\n",
    "        # processed_data = process_numpy(record)\n",
    "\n",
    "        # If no processing is needed, directly append the record\n",
    "        processed_data = record\n",
    "\n",
    "        # Append the data to the list\n",
    "        all_data.append(processed_data)\n",
    "\n",
    "    # Save all the data to a line-separated JSON file\n",
    "    with open(json_filename, \"w\") as output_file:\n",
    "        json.dump(all_data, output_file, indent=4)\n",
    "            \n",
    "# convert_dataset_into_json(combined_list, 'data/eval.json')\n",
    "convert_dataset_into_json(converted_conversations, 'first_twenty_dictionary.json')"
   ]
  },
  {
   "cell_type": "code",
   "execution_count": 144,
   "id": "002e4fb5-0501-4de0-ac67-eed7fa6b27f5",
   "metadata": {},
   "outputs": [
    {
     "name": "stderr",
     "output_type": "stream",
     "text": [
      "100%|██████████| 256/256 [00:00<00:00, 1374829.48it/s]\n"
     ]
    }
   ],
   "source": [
    "# Use for train\n",
    "\n",
    "convert_dataset_into_json(combined_list, 'data/eval.json')"
   ]
  },
  {
   "cell_type": "code",
   "execution_count": null,
   "id": "db29f3eb-165f-40de-839f-669b0e90f2d7",
   "metadata": {},
   "outputs": [],
   "source": []
  }
 ],
 "metadata": {
  "environment": {
   "kernel": "python3",
   "name": "common-cpu.m109",
   "type": "gcloud",
   "uri": "gcr.io/deeplearning-platform-release/base-cpu:m109"
  },
  "kernelspec": {
   "display_name": "Python 3",
   "language": "python",
   "name": "python3"
  },
  "language_info": {
   "codemirror_mode": {
    "name": "ipython",
    "version": 3
   },
   "file_extension": ".py",
   "mimetype": "text/x-python",
   "name": "python",
   "nbconvert_exporter": "python",
   "pygments_lexer": "ipython3",
   "version": "3.10.12"
  }
 },
 "nbformat": 4,
 "nbformat_minor": 5
}
